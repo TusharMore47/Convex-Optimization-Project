{
  "nbformat": 4,
  "nbformat_minor": 0,
  "metadata": {
    "colab": {
      "name": "channel_capacity_optimization.ipynb",
      "provenance": []
    },
    "kernelspec": {
      "name": "python3",
      "display_name": "Python 3"
    },
    "language_info": {
      "name": "python"
    }
  },
  "cells": [
    {
      "cell_type": "code",
      "source": [
        "import cvxpy as cp\n",
        "import numpy as np\n",
        "import scipy as sp\n",
        "import math\n",
        "\n",
        "def channel_capacity_optim(n, m, P):\n",
        "    x = cp.Variable(n) # underlying probability distribution of input X(t)\n",
        "    y = P@x\n",
        "    c = np.sum(np.array((sp.special.xlogy(P, P) / math.log(2))), axis=0)\n",
        "    I = c@x + cp.sum(cp.entr(y) / math.log(2))   # mutual information between x and y\n",
        "\n",
        "    objct = cp.Maximize(I)\n",
        "    constr = [x>=0, cp.sum(x)==1]\n",
        "    prob = cp.Problem(objct, constr)\n",
        "    prob.solve()\n",
        "\n",
        "    return x.value, y.value, prob.value"
      ],
      "metadata": {
        "id": "CelIOTvemg0e"
      },
      "execution_count": 1,
      "outputs": []
    },
    {
      "cell_type": "code",
      "source": [
        "n = 5 # number of inputs\n",
        "m = 2 # number of outputs\n",
        "P = np.array([[0.05, 0.55, 0.15, 0.20, 0.05], \n",
        "              [0.05, 0.15, 0.60, 0.05, 0.15]]) # channel transition matrix P\n",
        "              # p_ij is the channel transition probability, i.e. p_ij = prob(Y(t)=i | X(t)=j)\n",
        "\n",
        "x, y, C = channel_capacity_optim(n, m, P)\n",
        "print('x: ', x)\n",
        "print('y: ', y)\n",
        "print('Optimal value of the channel capacity is: ', round(C,6))"
      ],
      "metadata": {
        "colab": {
          "base_uri": "https://localhost:8080/"
        },
        "id": "3wLijLBlqR2i",
        "outputId": "034ad43c-301f-47a9-89e7-b39db39f5411"
      },
      "execution_count": 2,
      "outputs": [
        {
          "output_type": "stream",
          "name": "stdout",
          "text": [
            "x:  [4.36149598e-01 2.69295267e-01 2.94555122e-01 5.92797686e-09\n",
            " 5.77756905e-09]\n",
            "y:  [0.21410315 0.23893484]\n",
            "Optimal value of the channel capacity is:  0.29158\n"
          ]
        }
      ]
    }
  ]
}