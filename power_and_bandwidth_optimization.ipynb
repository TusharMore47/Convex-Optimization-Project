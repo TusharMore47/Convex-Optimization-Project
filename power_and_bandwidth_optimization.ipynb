{
  "nbformat": 4,
  "nbformat_minor": 0,
  "metadata": {
    "colab": {
      "name": "power_and_bandwidth_optimization.ipynb",
      "provenance": []
    },
    "kernelspec": {
      "name": "python3",
      "display_name": "Python 3"
    },
    "language_info": {
      "name": "python"
    }
  },
  "cells": [
    {
      "cell_type": "code",
      "source": [
        "import numpy as np\n",
        "import cvxpy as cp\n",
        "\n",
        "def optimised_power_bw(n, arr_alpha, arr_beta, P_total, W_total):\n",
        "  alpha = cp.Parameter(n)\n",
        "  alpha.value = arr_alpha\n",
        "  beta = cp.Parameter(n)\n",
        "  beta.value = arr_beta\n",
        "  P = cp.Variable(n)\n",
        "  W = cp.Variable(n)\n",
        "\n",
        "  # To make sure that the objective is DSP, kl_div function will be used as the objective so must be DCP by not performing elementiwse division directly \n",
        "  # after passing it to the solver.\n",
        "  R_i = cp.kl_div(cp.multiply(alpha, W), cp.multiply(alpha, W + cp.multiply(beta, P))) - cp.multiply(alpha, cp.multiply(beta, P))\n",
        "  objct = cp.Minimize(cp.sum(R_i))\n",
        "  constr = [P>=0.0, W>=0.0, cp.sum(P)==P_tot, cp.sum(W)==W_tot]\n",
        "  prob = cp.Problem(objct, constr)\n",
        "  max_utility = -prob.solve()\n",
        "  optimal_power = P.value\n",
        "  optimal_bw = W.value\n",
        "\n",
        "  return optimal_power, optimal_bw, max_utility"
      ],
      "metadata": {
        "id": "oBoNQKMt6tnS"
      },
      "execution_count": 1,
      "outputs": []
    },
    {
      "cell_type": "code",
      "source": [
        "#number of receivers in our system\n",
        "n = 6 \n",
        "#values of alpha and beta\n",
        "a = np.array([0.18, 0.15, 0.18, 0.15, 0.18, 0.15])\n",
        "b = np.array([0.15, 0.18, 0.15, 0.18, 0.15, 0.18])\n",
        "#total allowed power consumption\n",
        "P_tot = 6\n",
        "#total bandwith available\n",
        "W_tot = 2.4\n",
        "opt_P, opt_W, max_utility = optimised_power_bw(n, a, b, P_tot, W_tot)\n",
        "print('The optimal allocated powers are: ', opt_P, '\\n')\n",
        "print('The optimal allocated bandwidths are: ', opt_W, '\\n')\n",
        "print('The maximum utility of channel is: ', max_utility)"
      ],
      "metadata": {
        "id": "1LekBJYFy3Ai",
        "colab": {
          "base_uri": "https://localhost:8080/"
        },
        "outputId": "1a8c8baf-eab4-40f1-df31-24095bcf1e14"
      },
      "execution_count": 2,
      "outputs": [
        {
          "output_type": "stream",
          "name": "stdout",
          "text": [
            "The optimal allocated powers are:  [1.99999976e+00 2.42710956e-07 1.99999976e+00 2.42710956e-07\n",
            " 1.99999976e+00 2.42710956e-07] \n",
            "\n",
            "The optimal allocated bandwidths are:  [7.99999886e-01 1.13911716e-07 7.99999886e-01 1.13911716e-07\n",
            " 7.99999886e-01 1.13911716e-07] \n",
            "\n",
            "The maximum utility of channel is:  0.1375720118173345\n"
          ]
        }
      ]
    }
  ]
}